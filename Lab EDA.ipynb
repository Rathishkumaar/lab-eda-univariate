{
 "cells": [
  {
   "cell_type": "code",
   "execution_count": null,
   "id": "1c4e06cb-4775-4e40-a2a0-f0a3223597c6",
   "metadata": {},
   "outputs": [],
   "source": [
    "import pandas as pd\n",
    "import matplotlib.pyplot as plt\n",
    "import seaborn as sns\n",
    "import numpy as np\n",
    "\n",
    "%matplotlib inline"
   ]
  },
  {
   "cell_type": "code",
   "execution_count": null,
   "id": "d8b1d6d0-7112-4b8c-91a2-dcd64bff410a",
   "metadata": {},
   "outputs": [],
   "source": [
    "# Loading the amazon dataset\n",
    "df = pd.read_csv(\"C:/Users/rath_/Documents/GitHub/lab-eda-univariate/amz_uk_price_prediction_dataset.csv\")"
   ]
  },
  {
   "cell_type": "code",
   "execution_count": null,
   "id": "02ca9616-0217-4eb5-8141-61a041de035d",
   "metadata": {},
   "outputs": [],
   "source": [
    "df"
   ]
  },
  {
   "cell_type": "code",
   "execution_count": null,
   "id": "ada2059a-10fd-4d39-b068-dd134b4d3562",
   "metadata": {},
   "outputs": [],
   "source": [
    "# Frequency Tables. Generate a frequency table for the product category."
   ]
  },
  {
   "cell_type": "code",
   "execution_count": null,
   "id": "f7cfb578-a0a0-4f30-99c6-f7a9e022de96",
   "metadata": {},
   "outputs": [],
   "source": [
    "category_frequency = df['category'].value_counts().reset_index()\n",
    "category_frequency.columns = ['Category', 'Frequency']"
   ]
  },
  {
   "cell_type": "code",
   "execution_count": null,
   "id": "3f4eeb43-9deb-4214-8ebf-8402da847065",
   "metadata": {},
   "outputs": [],
   "source": [
    "print(\"Frequency Table for Categories:\")\n",
    "print(category_frequency)"
   ]
  },
  {
   "cell_type": "code",
   "execution_count": null,
   "id": "4bc78cbd-54ec-4614-9bba-6c85b26d1d18",
   "metadata": {},
   "outputs": [],
   "source": [
    "# Which are the top 5 most listed product categories?"
   ]
  },
  {
   "cell_type": "code",
   "execution_count": null,
   "id": "5aea199f-3c82-4390-b952-19a01744180d",
   "metadata": {},
   "outputs": [],
   "source": [
    "category_frequency.head(5)"
   ]
  },
  {
   "cell_type": "code",
   "execution_count": null,
   "id": "ea6ba8e1-0740-4ef3-84e8-aec2b71cb889",
   "metadata": {},
   "outputs": [],
   "source": [
    "# Visualizations:\n",
    "# Display the distribution of products across different categories using a bar chart. If you face problems understanding the chart,\n",
    "# do it for a subset of top categories.\n",
    "# For a subset of top categories, visualize their proportions using a pie chart. Does any category dominate the listings?"
   ]
  },
  {
   "cell_type": "code",
   "execution_count": null,
   "id": "1107e803-37ce-4f54-8cb2-b659d60f917c",
   "metadata": {},
   "outputs": [],
   "source": [
    "plt.figure(figsize=(10, 6))\n",
    "plt.bar(category_frequency['Category'], category_frequency['Frequency'])\n",
    "plt.title('Distribution of Products Across Categories')\n",
    "plt.xlabel('Category')\n",
    "plt.ylabel('Frequency')\n",
    "plt.xticks(rotation=90)\n",
    "plt.tight_layout()\n",
    "plt.show()"
   ]
  },
  {
   "cell_type": "code",
   "execution_count": null,
   "id": "430a66b3-843d-4505-9e60-d68a7347b9d2",
   "metadata": {},
   "outputs": [],
   "source": [
    "top_categories = category_frequency.head(5)"
   ]
  },
  {
   "cell_type": "code",
   "execution_count": null,
   "id": "0ecd6caa-49ea-4b59-8433-27f261d3fd54",
   "metadata": {},
   "outputs": [],
   "source": [
    "# Plot the proportions of top categories using a pie chart\n",
    "plt.figure(figsize=(8, 8))\n",
    "plt.pie(top_categories['Frequency'], labels=top_categories['Category'], autopct='%1.1f%%', startangle=140)\n",
    "plt.title('Proportions of Top Categories')\n",
    "plt.axis('equal')\n",
    "plt.show()"
   ]
  },
  {
   "cell_type": "code",
   "execution_count": null,
   "id": "22a9aab2-58b6-48bc-8774-989c02cd1636",
   "metadata": {},
   "outputs": [],
   "source": [
    "# Delving into Product Pricing\n",
    "# Business Question: How are products priced on Amazon UK, and are there specific price points or ranges that are more common?\n",
    "# Measures of Centrality:\n",
    "# Calculate the mean, median, and mode for the price of products.\n",
    "# What's the average price point of products listed? How does this compare with the most common price point (mode)?"
   ]
  },
  {
   "cell_type": "code",
   "execution_count": null,
   "id": "9513a636-4a95-4644-a8f4-6976569cc098",
   "metadata": {},
   "outputs": [],
   "source": [
    "# Calculate mean, median, and mode for product prices\n",
    "mean_price = df['price'].mean()\n",
    "median_price = df['price'].median()\n",
    "mode_price = df['price'].mode().iloc[0]\n",
    "\n",
    "# Print the calculated measures of centrality\n",
    "print(\"Mean price:\", mean_price)\n",
    "print(\"Median price:\", median_price)\n",
    "print(\"Mode price:\", mode_price)\n",
    "\n",
    "# Compare average price with the mode price\n",
    "print(\"\\nAverage price point:\", mean_price)\n",
    "print(\"Most common price point (mode):\", mode_price)"
   ]
  },
  {
   "cell_type": "code",
   "execution_count": null,
   "id": "1a2f24e8-0117-4387-9a54-d21b58892ce3",
   "metadata": {},
   "outputs": [],
   "source": [
    "# Measures of Dispersion:\n",
    "# Determine the variance, standard deviation, range, and interquartile range for product price.\n",
    "# How varied are the product prices? Are there any indicators of a significant spread in prices?"
   ]
  },
  {
   "cell_type": "code",
   "execution_count": null,
   "id": "1d793d44-266f-4f9f-840a-411cf72feabd",
   "metadata": {},
   "outputs": [],
   "source": [
    "# Calculate variance, standard deviation, range, and interquartile range for product prices\n",
    "variance_price = np.var(df['price'])\n",
    "std_dev_price = np.std(df['price'])\n",
    "range_price = df['price'].max() - df['price'].min()\n",
    "q3, q1 = np.percentile(df['price'], [75 ,25])\n",
    "iqr_price = q3 - q1"
   ]
  },
  {
   "cell_type": "code",
   "execution_count": null,
   "id": "98f561a9-5ff1-48ca-81e4-ae070f7d332c",
   "metadata": {},
   "outputs": [],
   "source": [
    "# Print the calculated measures of dispersion\n",
    "print(\"Variance of price:\", variance_price)\n",
    "print(\"Standard deviation of price:\", std_dev_price)\n",
    "print(\"Range of price:\", range_price)\n",
    "print(\"Interquartile range of price:\", iqr_price)\n",
    "\n",
    "# Assess the variability in prices\n",
    "print(\"\\nProduct prices vary significantly.\")\n",
    "print(\"The range of prices is:\", range_price)\n",
    "print(\"The interquartile range of prices is:\", iqr_price)"
   ]
  },
  {
   "cell_type": "code",
   "execution_count": null,
   "id": "58788371-16bc-4c8c-b6f7-4c0c92c72f1f",
   "metadata": {},
   "outputs": [],
   "source": [
    "# Visualizations:\n",
    "# Is there a specific price range where most products fall? Plot a histogram to visualize the distribution of product prices.\n",
    "# If its hard to read these diagrams, think why this is, and explain how it could be solved.\n",
    "# Are there products that are priced significantly higher than the rest? Use a box plot to showcase the \n",
    "# spread and potential outliers in product pricing."
   ]
  },
  {
   "cell_type": "code",
   "execution_count": null,
   "id": "dfedcc6f-f234-48ee-aecd-1d68b2692bb5",
   "metadata": {},
   "outputs": [],
   "source": [
    "# Plot histogram to visualize the distribution of product prices\n",
    "plt.figure(figsize=(10, 6))\n",
    "sns.histplot(df['price'], bins=30, kde=True, color='skyblue')\n",
    "plt.title('Distribution of Product Prices')\n",
    "plt.xlabel('Price')\n",
    "plt.ylabel('Frequency')\n",
    "plt.show()"
   ]
  },
  {
   "cell_type": "code",
   "execution_count": null,
   "id": "777c6356-ec15-411d-9ab2-78926b0934bd",
   "metadata": {},
   "outputs": [],
   "source": [
    "# Plot box plot to showcase the spread and potential outliers in product pricing\n",
    "plt.figure(figsize=(10, 6))\n",
    "sns.boxplot(x=df['price'], color='lightgreen')\n",
    "plt.title('Box Plot of Product Prices')\n",
    "plt.xlabel('Price')\n",
    "plt.show()"
   ]
  },
  {
   "cell_type": "code",
   "execution_count": null,
   "id": "a8ece25b-0e15-4f6e-9d5b-172dcd03e063",
   "metadata": {},
   "outputs": [],
   "source": [
    "# If the diagrams are hard to read, it could be due to a large number of data points or skewed distributions. \n",
    "# You can improve readability by adjusting the number of bins in the histogram or using log scale for the axes. \n",
    "# Additionally, you can filter out extreme outliers to focus on the main distribution."
   ]
  },
  {
   "cell_type": "code",
   "execution_count": null,
   "id": "824a7c30-8e26-4a43-98eb-0c497fd8117c",
   "metadata": {},
   "outputs": [],
   "source": [
    "# 3: Unpacking Product Ratings\n",
    "# Business Question: How do customers rate products on Amazon UK, and are there any patterns or tendencies in the ratings?\n",
    "# Measures of Centrality:Calculate the mean, median, and mode for the rating of products. \n",
    "# How do customers generally rate products? Is there a common trend?"
   ]
  },
  {
   "cell_type": "code",
   "execution_count": null,
   "id": "0874e73d-8762-4a6b-bc64-78436e27245d",
   "metadata": {},
   "outputs": [],
   "source": [
    "# Calculate mean, median, and mode for product ratings\n",
    "mean_stars = df['stars'].mean()\n",
    "median_stars = df['stars'].median()\n",
    "mode_stars = df['stars'].mode().iloc[0]\n",
    "\n",
    "# Print the calculated measures of centrality\n",
    "print(\"Mean stars:\", mean_stars)\n",
    "print(\"Median stars:\", median_stars)\n",
    "print(\"Mode stars:\", mode_stars)\n",
    "\n",
    "# Assess the common trend in customer ratings\n",
    "print(\"\\nCustomers generally rate products positively.\")\n",
    "print(\"The mean stars is:\", mean_stars)\n",
    "print(\"The median stars is:\", median_stars)\n",
    "print(\"The mode stars is:\", mode_stars)"
   ]
  },
  {
   "cell_type": "code",
   "execution_count": null,
   "id": "0db61542-5a23-49b9-8c91-0bf07ea658d2",
   "metadata": {},
   "outputs": [],
   "source": [
    "print(df.columns)"
   ]
  },
  {
   "cell_type": "code",
   "execution_count": null,
   "id": "85cebf0e-f529-4f91-9f5c-9884d961b46e",
   "metadata": {},
   "outputs": [],
   "source": [
    "# Measures of Dispersion:\n",
    "# Determine the variance, standard deviation, and interquartile range for product rating.\n",
    "# Are the ratings consistent, or is there a wide variation in customer feedback?"
   ]
  },
  {
   "cell_type": "code",
   "execution_count": null,
   "id": "9b58b8f2-dc0a-4997-a36e-f67ea51382a2",
   "metadata": {},
   "outputs": [],
   "source": [
    "# Calculate variance, standard deviation, and interquartile range for product ratings\n",
    "variance_stars = np.var(df['stars'])\n",
    "std_dev_stars = np.std(df['stars'])\n",
    "q3, q1 = np.percentile(df['stars'], [75 ,25])\n",
    "iqr_stars = q3 - q1\n",
    "\n",
    "# Print the calculated measures of dispersion\n",
    "print(\"Variance of stars:\", variance_stars)\n",
    "print(\"Standard deviation of stars:\", std_dev_stars)\n",
    "print(\"Interquartile range of stars:\", iqr_stars)\n",
    "\n",
    "# Assess the consistency or variation in customer feedback\n",
    "print(\"\\nCustomer feedback for product ratings shows some variation.\")\n",
    "print(\"The variance of stars is:\", variance_stars)\n",
    "print(\"The standard deviation of stars is:\", std_dev_stars)\n",
    "print(\"The interquartile range of stars is:\", iqr_stars)"
   ]
  },
  {
   "cell_type": "code",
   "execution_count": null,
   "id": "16bb6374-de81-4634-a9b9-60c9a3dd4c5b",
   "metadata": {},
   "outputs": [],
   "source": [
    "# Shape of the Distribution:\n",
    "# Calculate the skewness and kurtosis for the rating column.\n",
    "# Are the ratings normally distributed, or do they lean towards higher or lower values?"
   ]
  },
  {
   "cell_type": "code",
   "execution_count": null,
   "id": "b68ebb40-0705-4c82-9de9-cbf76991b8d3",
   "metadata": {},
   "outputs": [],
   "source": [
    "# Calculate skewness and kurtosis for the rating column\n",
    "import pandas as pd\n",
    "from scipy.stats import skew, kurtosis\n",
    "\n",
    "\n",
    "skewness = skew(df['stars'])\n",
    "kurt = kurtosis(df['stars'])\n",
    "\n",
    "# Print the calculated skewness and kurtosis\n",
    "print(\"Skewness of stars:\", skewness)\n",
    "print(\"Kurtosis of stars:\", kurt)\n",
    "\n",
    "# Assess the shape of the distribution\n",
    "if skewness < 0:\n",
    "    skewness_desc = \"negatively skewed\"\n",
    "elif skewness > 0:\n",
    "    skewness_desc = \"positively skewed\"\n",
    "else:\n",
    "    skewness_desc = \"symmetric\"\n",
    "\n",
    "if kurt < 0:\n",
    "    kurtosis_desc = \"platykurtic\"\n",
    "elif kurt > 0:\n",
    "    kurtosis_desc = \"leptokurtic\"\n",
    "else:\n",
    "    kurtosis_desc = \"mesokurtic (normal)\"\n",
    "\n",
    "print(\"\\nThe distribution of ratings is\", skewness_desc, \"and\", kurtosis_desc)"
   ]
  },
  {
   "cell_type": "code",
   "execution_count": null,
   "id": "41e76055-7208-4073-a339-efa1569ba6ab",
   "metadata": {},
   "outputs": [],
   "source": [
    "# Visualizations:\n",
    "# Plot a histogram to visualize the distribution of product ratings. Is there a specific rating that is more common?"
   ]
  },
  {
   "cell_type": "code",
   "execution_count": null,
   "id": "cafbd539-7779-4c9c-a668-598f149c3c16",
   "metadata": {},
   "outputs": [],
   "source": [
    "import pandas as pd\n",
    "import matplotlib.pyplot as plt\n",
    "\n",
    "\n",
    "# Plot a histogram of product ratings\n",
    "plt.figure(figsize=(8, 6))\n",
    "plt.hist(df['stars'], bins=20, color='skyblue', edgecolor='black')\n",
    "plt.title('Distribution of Product stars')\n",
    "plt.xlabel('stars')\n",
    "plt.ylabel('Frequency')\n",
    "plt.grid(True)\n",
    "plt.show()"
   ]
  },
  {
   "cell_type": "code",
   "execution_count": 1,
   "id": "4fa252aa-0841-4110-a68c-bc074dcf3783",
   "metadata": {},
   "outputs": [
    {
     "ename": "NameError",
     "evalue": "name 'df' is not defined",
     "output_type": "error",
     "traceback": [
      "\u001b[1;31m---------------------------------------------------------------------------\u001b[0m",
      "\u001b[1;31mNameError\u001b[0m                                 Traceback (most recent call last)",
      "Cell \u001b[1;32mIn[1], line 1\u001b[0m\n\u001b[1;32m----> 1\u001b[0m df\n",
      "\u001b[1;31mNameError\u001b[0m: name 'df' is not defined"
     ]
    }
   ],
   "source": [
    "df"
   ]
  },
  {
   "cell_type": "code",
   "execution_count": null,
   "id": "c495bc27-96d2-406e-93d2-2c4b94a4fdb8",
   "metadata": {},
   "outputs": [],
   "source": []
  }
 ],
 "metadata": {
  "kernelspec": {
   "display_name": "Python 3 (ipykernel)",
   "language": "python",
   "name": "python3"
  },
  "language_info": {
   "codemirror_mode": {
    "name": "ipython",
    "version": 3
   },
   "file_extension": ".py",
   "mimetype": "text/x-python",
   "name": "python",
   "nbconvert_exporter": "python",
   "pygments_lexer": "ipython3",
   "version": "3.11.7"
  }
 },
 "nbformat": 4,
 "nbformat_minor": 5
}
